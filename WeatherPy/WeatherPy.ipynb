{
 "cells": [
  {
   "cell_type": "markdown",
   "metadata": {},
   "source": [
    "# WeatherPy\n",
    "----\n",
    "\n",
    "#### Note\n",
    "* Instructions have been included for each segment. You do not have to follow them exactly, but they are included to help you think through the steps."
   ]
  },
  {
   "cell_type": "code",
   "execution_count": 1,
   "metadata": {
    "scrolled": true
   },
   "outputs": [],
   "source": [
    "# Dependencies and Setup\n",
    "import matplotlib.pyplot as plt\n",
    "import pandas as pd\n",
    "import numpy as np\n",
    "import requests\n",
    "import time\n",
    "from scipy.stats import linregress\n",
    "from pprint import pprint\n",
    "\n",
    "# Import API key\n",
    "from api_keys import weather_api_key\n",
    "\n",
    "# Incorporated citipy to determine city based on latitude and longitude\n",
    "from citipy import citipy\n",
    "\n",
    "# Output File (CSV)\n",
    "output_data_file = \"output_data/cities.csv\"\n",
    "\n",
    "# Range of latitudes and longitudes\n",
    "lat_range = (-90, 90)\n",
    "lng_range = (-180, 180)"
   ]
  },
  {
   "cell_type": "markdown",
   "metadata": {},
   "source": [
    "## Generate Cities List"
   ]
  },
  {
   "cell_type": "code",
   "execution_count": 2,
   "metadata": {},
   "outputs": [
    {
     "data": {
      "text/plain": [
       "626"
      ]
     },
     "execution_count": 2,
     "metadata": {},
     "output_type": "execute_result"
    }
   ],
   "source": [
    "# List for holding lat_lngs and cities\n",
    "lat_lngs = []\n",
    "cities = []\n",
    "\n",
    "# Create a set of random lat and lng combinations\n",
    "lats = np.random.uniform(lat_range[0], lat_range[1], size=1500)\n",
    "lngs = np.random.uniform(lng_range[0], lng_range[1], size=1500)\n",
    "lat_lngs = zip(lats, lngs)\n",
    "\n",
    "# Identify nearest city for each lat, lng combination\n",
    "for lat_lng in lat_lngs:\n",
    "    city = citipy.nearest_city(lat_lng[0], lat_lng[1]).city_name\n",
    "    \n",
    "    # If the city is unique, then add it to a our cities list\n",
    "    if city not in cities:\n",
    "        cities.append(city)\n",
    "\n",
    "# Print the city count to confirm sufficient count\n",
    "len(cities)"
   ]
  },
  {
   "cell_type": "markdown",
   "metadata": {},
   "source": [
    "### Perform API Calls\n",
    "* Perform a weather check on each city using a series of successive API calls.\n",
    "* Include a print log of each city as it'sbeing processed (with the city number and city name).\n"
   ]
  },
  {
   "cell_type": "code",
   "execution_count": 3,
   "metadata": {
    "scrolled": true
   },
   "outputs": [
    {
     "name": "stdout",
     "output_type": "stream",
     "text": [
      "Processing 1 of 626 | id: 371745 | kutum\n",
      "Processing 2 of 626 | id: 3466704 | castro\n",
      "Processing 3 of 626 | id: 5855927 | hilo\n",
      "Processing 4 of 626 | id: 2075265 | busselton\n",
      "Processing 5 of 626 | id: 4035715 | avarua\n",
      "Processing 6 of 626 | id: 4030556 | rikitea\n",
      "Processing 7 of 626 | id: 5122534 | jamestown\n",
      "Processing 8 of 626 | id: 964432 | port alfred\n",
      "Processing 9 of 626 | id: 3393692 | itarema\n",
      "Processing 10 of 626 | id: 1735106 | georgetown\n",
      "Processing 11 of 626 | id: 3421765 | nanortalik\n",
      "Processing 12 of 626 | id: 6201424 | mataura\n",
      "Processing 13 of 626 | id: 2019867 | mokhsogollokh\n",
      "Processing 14 of 626 | id: 132144 | hamadan\n",
      "Processing 15 of 626 | id: 2638419 | scarborough\n",
      "Processing 16 of 626 | id: 2152659 | port macquarie\n",
      "Processing 17 of 626 | id: 4020109 | atuona\n",
      "Processing 18 of 626 | id: 934649 | cap malheureux\n",
      "Processing 19 of 626 | id: 3119979 | la baneza\n",
      "Processing 20 of 626 | id: 6111862 | port hardy\n",
      "Processing 21 of 626 | id: 4032243 | vaini\n",
      "Processing 22 of 626 | id: 3922037 | caranavi\n",
      "City data not found\n",
      "Processing 24 of 626 | id: 1015776 | bredasdorp\n",
      "Processing 25 of 626 | id: 1242110 | kalmunai\n",
      "Processing 26 of 626 | id: 570683 | burtunay\n",
      "Processing 27 of 626 | id: 1282256 | hithadhoo\n",
      "Processing 28 of 626 | id: 2191911 | dargaville\n",
      "Processing 29 of 626 | id: 528109 | mednogorsk\n",
      "Processing 30 of 626 | id: 2132606 | samarai\n",
      "Processing 31 of 626 | id: 1714733 | dingle\n",
      "Processing 32 of 626 | id: 3833367 | ushuaia\n",
      "Processing 33 of 626 | id: 2020838 | lensk\n",
      "Processing 34 of 626 | id: 2126123 | chokurdakh\n",
      "City data not found\n",
      "Processing 36 of 626 | id: 5866063 | kenai\n",
      "Processing 37 of 626 | id: 56166 | jilib\n",
      "City data not found\n",
      "Processing 39 of 626 | id: 3355672 | luderitz\n",
      "Processing 40 of 626 | id: 3372707 | ribeira grande\n",
      "Processing 41 of 626 | id: 2015306 | tiksi\n",
      "Processing 42 of 626 | id: 1495538 | partizanskoye\n",
      "Processing 43 of 626 | id: 5861897 | fairbanks\n",
      "Processing 44 of 626 | id: 1819729 | victoria\n",
      "Processing 45 of 626 | id: 2017155 | saskylakh\n",
      "Processing 46 of 626 | id: 1505579 | inta\n",
      "Processing 47 of 626 | id: 6185377 | yellowknife\n",
      "Processing 48 of 626 | id: 3461941 | guapore\n",
      "Processing 49 of 626 | id: 1633419 | padang\n",
      "City data not found\n",
      "Processing 51 of 626 | id: 3652764 | puerto ayora\n",
      "Processing 52 of 626 | id: 1861416 | ishigaki\n",
      "Processing 53 of 626 | id: 3366880 | hermanus\n",
      "Processing 54 of 626 | id: 477424 | vad\n",
      "Processing 55 of 626 | id: 1185095 | teknaf\n",
      "Processing 56 of 626 | id: 3874787 | punta arenas\n",
      "Processing 57 of 626 | id: 3369157 | cape town\n",
      "Processing 58 of 626 | id: 3466165 | cidreira\n",
      "Processing 59 of 626 | id: 1488206 | ust-ishim\n",
      "Processing 60 of 626 | id: 5096699 | clifton\n",
      "Processing 61 of 626 | id: 1649150 | bengkulu\n",
      "Processing 62 of 626 | id: 5478673 | meadow lake\n",
      "Processing 63 of 626 | id: 4944903 | nantucket\n",
      "Processing 64 of 626 | id: 1516048 | hovd\n",
      "Processing 65 of 626 | id: 1106677 | bambous virieux\n",
      "Processing 66 of 626 | id: 2015913 | suntar\n",
      "Processing 67 of 626 | id: 5557293 | sitka\n",
      "Processing 68 of 626 | id: 5924351 | clyde river\n",
      "Processing 69 of 626 | id: 2155415 | new norfolk\n",
      "Processing 70 of 626 | id: 2094342 | kavieng\n",
      "Processing 71 of 626 | id: 2660076 | la chaux-de-fonds\n",
      "City data not found\n",
      "Processing 73 of 626 | id: 546105 | nikolskoye\n",
      "Processing 74 of 626 | id: 2138555 | poum\n",
      "Processing 75 of 626 | id: 2206939 | bluff\n",
      "Processing 76 of 626 | id: 1816751 | beidao\n",
      "Processing 77 of 626 | id: 1067565 | beloha\n",
      "Processing 78 of 626 | id: 2303611 | axim\n",
      "Processing 79 of 626 | id: 4946620 | palmer\n",
      "Processing 80 of 626 | id: 2281120 | tabou\n",
      "Processing 81 of 626 | id: 2110227 | butaritari\n",
      "Processing 82 of 626 | id: 2688250 | norrtalje\n",
      "Processing 83 of 626 | id: 5780557 | riverton\n",
      "Processing 84 of 626 | id: 3414079 | olafsvik\n",
      "Processing 85 of 626 | id: 110690 | faya\n",
      "Processing 86 of 626 | id: 3381428 | iracoubo\n",
      "Processing 87 of 626 | id: 2112802 | hasaki\n",
      "City data not found\n",
      "City data not found\n",
      "Processing 90 of 626 | id: 2028164 | deputatskiy\n",
      "City data not found\n",
      "Processing 92 of 626 | id: 3628473 | san cristobal\n",
      "City data not found\n",
      "Processing 94 of 626 | id: 5742974 | north bend\n",
      "Processing 95 of 626 | id: 155405 | mafinga\n",
      "Processing 96 of 626 | id: 2065594 | mount isa\n",
      "Processing 97 of 626 | id: 3471451 | arraial do cabo\n",
      "City data not found\n",
      "Processing 99 of 626 | id: 2071860 | esperance\n",
      "Processing 100 of 626 | id: 6316343 | alta floresta\n",
      "Processing 101 of 626 | id: 5697939 | north platte\n",
      "Processing 102 of 626 | id: 2013465 | verkhoyansk\n",
      "Processing 103 of 626 | id: 1488903 | turukhansk\n",
      "Processing 104 of 626 | id: 1651810 | airai\n",
      "Processing 105 of 626 | id: 2729907 | longyearbyen\n",
      "Processing 106 of 626 | id: 2208248 | kaitangata\n",
      "Processing 107 of 626 | id: 3443061 | chuy\n",
      "City data not found\n",
      "Processing 109 of 626 | id: 1507390 | dikson\n",
      "Processing 110 of 626 | id: 1267433 | kattivakkam\n",
      "Processing 111 of 626 | id: 3424607 | tasiilaq\n",
      "Processing 112 of 626 | id: 7671223 | kloulklubed\n",
      "Processing 113 of 626 | id: 1259385 | port blair\n",
      "Processing 114 of 626 | id: 1506268 | gornopravdinsk\n",
      "Processing 115 of 626 | id: 5848280 | kapaa\n",
      "Processing 116 of 626 | id: 4034188 | moerai\n",
      "Processing 117 of 626 | id: 5106841 | albany\n",
      "Processing 118 of 626 | id: 515155 | opochka\n",
      "Processing 119 of 626 | id: 5880054 | barrow\n",
      "Processing 120 of 626 | id: 2126199 | cherskiy\n",
      "Processing 121 of 626 | id: 2264557 | ponta do sol\n",
      "Processing 122 of 626 | id: 3832899 | viedma\n",
      "Processing 123 of 626 | id: 2460954 | araouane\n",
      "Processing 124 of 626 | id: 3932145 | pisco\n",
      "City data not found\n",
      "Processing 126 of 626 | id: 3139597 | sistranda\n",
      "Processing 127 of 626 | id: 3418910 | upernavik\n",
      "Processing 128 of 626 | id: 5969025 | haines junction\n",
      "Processing 129 of 626 | id: 2092164 | lorengau\n",
      "Processing 130 of 626 | id: 5855051 | ewa beach\n",
      "Processing 131 of 626 | id: 4220629 | saint marys\n",
      "Processing 132 of 626 | id: 3135728 | straumen\n",
      "Processing 133 of 626 | id: 1855540 | naze\n",
      "Processing 134 of 626 | id: 1490085 | tarko-sale\n",
      "Processing 135 of 626 | id: 2514301 | mahon\n",
      "Processing 136 of 626 | id: 3941492 | desaguadero\n",
      "Processing 137 of 626 | id: 934322 | mahebourg\n",
      "Processing 138 of 626 | id: 921772 | moroni\n",
      "Processing 139 of 626 | id: 1254046 | tura\n",
      "Processing 140 of 626 | id: 3420846 | qaqortoq\n",
      "Processing 141 of 626 | id: 5882953 | aklavik\n",
      "Processing 142 of 626 | id: 935215 | saint-philippe\n",
      "Processing 143 of 626 | id: 3883457 | lebu\n",
      "Processing 144 of 626 | id: 2022572 | khatanga\n",
      "Processing 145 of 626 | id: 2191562 | dunedin\n",
      "Processing 146 of 626 | id: 1529569 | changji\n",
      "Processing 147 of 626 | id: 2209055 | waddan\n",
      "Processing 148 of 626 | id: 2171099 | codrington\n",
      "Processing 149 of 626 | id: 6050066 | la ronge\n",
      "Processing 150 of 626 | id: 2553604 | casablanca\n",
      "Processing 151 of 626 | id: 2018735 | nyurba\n",
      "Processing 152 of 626 | id: 3374083 | bathsheba\n",
      "Processing 153 of 626 | id: 1267758 | karimganj\n",
      "Processing 154 of 626 | id: 6170031 | tuktoyaktuk\n",
      "Processing 155 of 626 | id: 6255012 | flinders\n",
      "Processing 156 of 626 | id: 1214488 | meulaboh\n",
      "Processing 157 of 626 | id: 3395458 | maragogi\n",
      "Processing 158 of 626 | id: 5044290 | saint anthony\n",
      "Processing 159 of 626 | id: 3407357 | araguaina\n",
      "Processing 160 of 626 | id: 162199 | annau\n",
      "City data not found\n",
      "Processing 162 of 626 | id: 964420 | port elizabeth\n",
      "Processing 163 of 626 | id: 6165406 | thompson\n",
      "Processing 164 of 626 | id: 2120048 | ust-nera\n",
      "Processing 165 of 626 | id: 2108502 | honiara\n",
      "Processing 166 of 626 | id: 325302 | afyonkarahisar\n",
      "City data not found\n",
      "Processing 168 of 626 | id: 1861280 | itoman\n",
      "City data not found\n",
      "Processing 170 of 626 | id: 2654970 | brae\n",
      "Processing 171 of 626 | id: 2163355 | hobart\n",
      "Processing 172 of 626 | id: 1526384 | almaty\n",
      "Processing 173 of 626 | id: 3470137 | belmonte\n",
      "Processing 174 of 626 | id: 3985710 | cabo san lucas\n",
      "Processing 175 of 626 | id: 3372472 | vila franca do campo\n",
      "Processing 176 of 626 | id: 6690296 | saint-joseph\n",
      "Processing 177 of 626 | id: 3893629 | coquimbo\n",
      "Processing 178 of 626 | id: 3156980 | floro\n",
      "Processing 179 of 626 | id: 5554428 | ketchikan\n",
      "Processing 180 of 626 | id: 2074865 | carnarvon\n",
      "Processing 181 of 626 | id: 780687 | berlevag\n",
      "Processing 182 of 626 | id: 3359638 | walvis bay\n",
      "Processing 183 of 626 | id: 2025256 | chumikan\n",
      "Processing 184 of 626 | id: 2457161 | gao\n"
     ]
    },
    {
     "name": "stdout",
     "output_type": "stream",
     "text": [
      "Processing 185 of 626 | id: 2449066 | tombouctou\n",
      "City data not found\n",
      "Processing 187 of 626 | id: 5563839 | fortuna\n",
      "Processing 188 of 626 | id: 3831208 | qaanaaq\n",
      "Processing 189 of 626 | id: 6089245 | norman wells\n",
      "Processing 190 of 626 | id: 2122389 | ossora\n",
      "Processing 191 of 626 | id: 2112309 | katsuura\n",
      "Processing 192 of 626 | id: 986717 | kruisfontein\n",
      "Processing 193 of 626 | id: 1850523 | tateyama\n",
      "Processing 194 of 626 | id: 3445026 | vila velha\n",
      "Processing 195 of 626 | id: 1497210 | novoagansk\n",
      "Processing 196 of 626 | id: 5030005 | hibbing\n",
      "Processing 197 of 626 | id: 81604 | suluq\n",
      "Processing 198 of 626 | id: 1636308 | manokwari\n",
      "Processing 199 of 626 | id: 6078372 | moose factory\n",
      "Processing 200 of 626 | id: 1179463 | dunga bunga\n",
      "City data not found\n",
      "Processing 202 of 626 | id: 3457147 | mineiros\n",
      "Processing 203 of 626 | id: 962367 | richards bay\n",
      "Processing 204 of 626 | id: 2178753 | kirakira\n",
      "Processing 205 of 626 | id: 1249931 | beruwala\n",
      "City data not found\n",
      "Processing 207 of 626 | id: 2137773 | vao\n",
      "Processing 208 of 626 | id: 4362001 | mayo\n",
      "Processing 209 of 626 | id: 3894426 | coihaique\n",
      "Processing 210 of 626 | id: 3620645 | bonanza\n",
      "Processing 211 of 626 | id: 1488774 | tyukhtet\n",
      "Processing 212 of 626 | id: 3692994 | quiruvilca\n",
      "City data not found\n",
      "Processing 214 of 626 | id: 1006984 | east london\n",
      "Processing 215 of 626 | id: 2126682 | bilibino\n",
      "Processing 216 of 626 | id: 2436400 | ati\n",
      "City data not found\n",
      "Processing 218 of 626 | id: 3613321 | comayagua\n",
      "Processing 219 of 626 | id: 489998 | shatoy\n",
      "Processing 220 of 626 | id: 4231997 | avera\n",
      "Processing 221 of 626 | id: 553766 | kamenka\n",
      "Processing 222 of 626 | id: 578283 | spornoye\n",
      "Processing 223 of 626 | id: 1214026 | sabang\n",
      "Processing 224 of 626 | id: 1800521 | minggang\n",
      "Processing 225 of 626 | id: 1633442 | paciran\n",
      "Processing 226 of 626 | id: 913323 | kaoma\n",
      "Processing 227 of 626 | id: 2094027 | kieta\n",
      "Processing 228 of 626 | id: 3516171 | tecoanapa\n",
      "Processing 229 of 626 | id: 2123814 | leningradskiy\n",
      "Processing 230 of 626 | id: 1307741 | myitkyina\n",
      "Processing 231 of 626 | id: 100926 | umm lajj\n",
      "City data not found\n",
      "Processing 233 of 626 | id: 5955084 | foam lake\n",
      "Processing 234 of 626 | id: 649924 | kuusamo\n",
      "Processing 235 of 626 | id: 5850554 | makakilo city\n",
      "Processing 236 of 626 | id: 3450909 | rondonopolis\n",
      "Processing 237 of 626 | id: 1058381 | morondava\n",
      "Processing 238 of 626 | id: 1140025 | herat\n",
      "Processing 239 of 626 | id: 3576994 | cockburn town\n",
      "Processing 240 of 626 | id: 2634739 | warrington\n",
      "City data not found\n",
      "Processing 242 of 626 | id: 4031574 | provideniya\n",
      "City data not found\n",
      "Processing 244 of 626 | id: 1789945 | xiaoweizhai\n",
      "Processing 245 of 626 | id: 6100799 | pemberton\n",
      "Processing 246 of 626 | id: 293842 | gat\n",
      "Processing 247 of 626 | id: 3402648 | carutapera\n",
      "Processing 248 of 626 | id: 777019 | vardo\n",
      "Processing 249 of 626 | id: 3421719 | narsaq\n",
      "Processing 250 of 626 | id: 3419842 | sisimiut\n",
      "City data not found\n",
      "Processing 252 of 626 | id: 3939761 | hualmay\n",
      "City data not found\n",
      "Processing 254 of 626 | id: 5367788 | lompoc\n",
      "Processing 255 of 626 | id: 4014336 | chihuahua\n",
      "Processing 256 of 626 | id: 2031964 | darhan\n",
      "Processing 257 of 626 | id: 1490796 | strezhevoy\n",
      "Processing 258 of 626 | id: 2381334 | atar\n",
      "Processing 259 of 626 | id: 3984997 | san quintin\n",
      "Processing 260 of 626 | id: 1492948 | saryg-sep\n",
      "Processing 261 of 626 | id: 2381972 | adrar\n",
      "Processing 262 of 626 | id: 3372964 | lagoa\n",
      "Processing 263 of 626 | id: 609919 | kuryk\n",
      "Processing 264 of 626 | id: 3155152 | gravdal\n",
      "Processing 265 of 626 | id: 1734651 | gua musang\n",
      "Processing 266 of 626 | id: 108410 | riyadh\n",
      "Processing 267 of 626 | id: 3515473 | tlacotepec\n",
      "Processing 268 of 626 | id: 3899695 | ancud\n",
      "Processing 269 of 626 | id: 1636806 | majene\n",
      "Processing 270 of 626 | id: 3430863 | mar del plata\n",
      "Processing 271 of 626 | id: 3423146 | ilulissat\n",
      "City data not found\n",
      "City data not found\n",
      "Processing 274 of 626 | id: 2057087 | kupang\n",
      "City data not found\n",
      "Processing 276 of 626 | id: 3156868 | folldal\n",
      "Processing 277 of 626 | id: 933995 | souillac\n",
      "Processing 278 of 626 | id: 2122090 | pevek\n",
      "City data not found\n",
      "Processing 280 of 626 | id: 2439376 | tahoua\n",
      "Processing 281 of 626 | id: 3855065 | general roca\n",
      "Processing 282 of 626 | id: 576626 | betlitsa\n",
      "Processing 283 of 626 | id: 3860443 | comodoro rivadavia\n",
      "Processing 284 of 626 | id: 2212775 | sabha\n",
      "Processing 285 of 626 | id: 707292 | izyum\n",
      "Processing 286 of 626 | id: 680963 | constanta\n",
      "City data not found\n",
      "Processing 288 of 626 | id: 5282297 | bethel\n",
      "Processing 289 of 626 | id: 933787 | dutlwe\n",
      "Processing 290 of 626 | id: 5153924 | findlay\n",
      "Processing 291 of 626 | id: 4017152 | benjamin hill\n",
      "Processing 292 of 626 | id: 86049 | jalu\n",
      "Processing 293 of 626 | id: 2377457 | nouadhibou\n",
      "Processing 294 of 626 | id: 3451138 | rio grande\n",
      "Processing 295 of 626 | id: 4031637 | lavrentiya\n",
      "Processing 296 of 626 | id: 3430545 | moron\n",
      "Processing 297 of 626 | id: 863061 | usinsk\n",
      "Processing 298 of 626 | id: 5983720 | iqaluit\n",
      "Processing 299 of 626 | id: 239899 | bria\n",
      "Processing 300 of 626 | id: 3430443 | necochea\n",
      "Processing 301 of 626 | id: 2145554 | ulladulla\n",
      "Processing 302 of 626 | id: 337010 | gelemso\n",
      "Processing 303 of 626 | id: 1272473 | nandi\n",
      "Processing 304 of 626 | id: 5847411 | kahului\n",
      "Processing 305 of 626 | id: 352733 | marsa matruh\n",
      "Processing 306 of 626 | id: 660561 | porvoo\n",
      "Processing 307 of 626 | id: 6067747 | matagami\n",
      "Processing 308 of 626 | id: 2965402 | clonakilty\n",
      "City data not found\n",
      "Processing 310 of 626 | id: 2084442 | vanimo\n",
      "Processing 311 of 626 | id: 4993659 | garden city\n",
      "City data not found\n",
      "Processing 313 of 626 | id: 5110365 | broome\n",
      "Processing 314 of 626 | id: 3924679 | vilhena\n",
      "Processing 315 of 626 | id: 2156927 | moree\n",
      "City data not found\n",
      "Processing 317 of 626 | id: 535839 | leshukonskoye\n",
      "Processing 318 of 626 | id: 4392354 | jasper\n",
      "Processing 319 of 626 | id: 3671387 | puerto narino\n",
      "Processing 320 of 626 | id: 4574324 | charleston\n",
      "Processing 321 of 626 | id: 104515 | mecca\n",
      "Processing 322 of 626 | id: 2349431 | sabla\n",
      "Processing 323 of 626 | id: 3347019 | namibe\n",
      "Processing 324 of 626 | id: 933815 | dekar\n",
      "Processing 325 of 626 | id: 2127060 | arman\n",
      "Processing 326 of 626 | id: 1510041 | biryusinsk\n",
      "Processing 327 of 626 | id: 3870243 | taltal\n",
      "Processing 328 of 626 | id: 3407762 | amapa\n",
      "Processing 329 of 626 | id: 4033557 | tautira\n",
      "Processing 330 of 626 | id: 6067472 | marystown\n",
      "Processing 331 of 626 | id: 4047434 | russell\n",
      "Processing 332 of 626 | id: 6533368 | moranbah\n",
      "City data not found\n",
      "Processing 334 of 626 | id: 1487112 | vikulovo\n",
      "Processing 335 of 626 | id: 2093846 | kiunga\n",
      "Processing 336 of 626 | id: 1513491 | komsomolskiy\n",
      "Processing 337 of 626 | id: 287286 | muscat\n",
      "Processing 338 of 626 | id: 315367 | erzurum\n",
      "Processing 339 of 626 | id: 1487939 | uvat\n",
      "Processing 340 of 626 | id: 2129870 | mikasa\n",
      "Processing 341 of 626 | id: 2027806 | amazar\n",
      "Processing 342 of 626 | id: 6167817 | torbay\n",
      "Processing 343 of 626 | id: 3424901 | aasiaat\n",
      "Processing 344 of 626 | id: 2385535 | kouango\n",
      "Processing 345 of 626 | id: 1847947 | shingu\n",
      "Processing 346 of 626 | id: 3038634 | agen\n",
      "Processing 347 of 626 | id: 1786538 | yining\n",
      "City data not found\n",
      "Processing 349 of 626 | id: 2175819 | biloela\n",
      "Processing 350 of 626 | id: 138042 | damavand\n",
      "Processing 351 of 626 | id: 3842670 | olavarria\n",
      "Processing 352 of 626 | id: 6559559 | komsomolsk\n",
      "Processing 353 of 626 | id: 4021858 | guerrero negro\n",
      "Processing 354 of 626 | id: 72181 | marzuq\n",
      "Processing 355 of 626 | id: 2641434 | northam\n",
      "Processing 356 of 626 | id: 5391295 | salinas\n",
      "Processing 357 of 626 | id: 2013894 | ust-ordynskiy\n",
      "Processing 358 of 626 | id: 3395062 | maues\n",
      "Processing 359 of 626 | id: 149050 | uvinza\n",
      "Processing 360 of 626 | id: 176758 | kaputa\n",
      "Processing 361 of 626 | id: 2090021 | namatanai\n",
      "Processing 362 of 626 | id: 556268 | ostrovnoy\n",
      "Processing 363 of 626 | id: 2374583 | bubaque\n",
      "Processing 364 of 626 | id: 5404476 | ukiah\n",
      "Processing 365 of 626 | id: 2122104 | petropavlovsk-kamchatskiy\n",
      "Processing 366 of 626 | id: 2514301 | mao\n",
      "Processing 367 of 626 | id: 934482 | grand baie\n",
      "Processing 368 of 626 | id: 2025630 | chara\n",
      "Processing 369 of 626 | id: 3893726 | constitucion\n",
      "Processing 370 of 626 | id: 2088659 | panguna\n",
      "Processing 371 of 626 | id: 3867427 | mayor pablo lagerenza\n"
     ]
    },
    {
     "name": "stdout",
     "output_type": "stream",
     "text": [
      "Processing 372 of 626 | id: 2963155 | kinsale\n",
      "Processing 373 of 626 | id: 1510377 | belyy yar\n",
      "Processing 374 of 626 | id: 2158767 | mareeba\n",
      "Processing 375 of 626 | id: 3904906 | santa cruz\n",
      "Processing 376 of 626 | id: 3458591 | lima duarte\n",
      "Processing 377 of 626 | id: 5710035 | west wendover\n",
      "Processing 378 of 626 | id: 1610187 | kaset sombun\n",
      "Processing 379 of 626 | id: 2015179 | tommot\n",
      "Processing 380 of 626 | id: 3579925 | saint-georges\n",
      "Processing 381 of 626 | id: 1650434 | bambanglipuro\n",
      "Processing 382 of 626 | id: 711390 | brovary\n",
      "Processing 383 of 626 | id: 2510573 | teguise\n",
      "Processing 384 of 626 | id: 2312895 | mbandaka\n",
      "Processing 385 of 626 | id: 3412093 | vestmannaeyjar\n",
      "Processing 386 of 626 | id: 3386931 | tamandare\n",
      "Processing 387 of 626 | id: 2522890 | tortoli\n",
      "Processing 388 of 626 | id: 2518878 | denia\n",
      "Processing 389 of 626 | id: 1490591 | suslovo\n",
      "Processing 390 of 626 | id: 686090 | asau\n",
      "Processing 391 of 626 | id: 2027296 | aykhal\n",
      "City data not found\n",
      "City data not found\n",
      "Processing 394 of 626 | id: 2126710 | beringovskiy\n",
      "Processing 395 of 626 | id: 4935211 | duxbury\n",
      "Processing 396 of 626 | id: 4218882 | rincon\n",
      "Processing 397 of 626 | id: 3919703 | comarapa\n",
      "Processing 398 of 626 | id: 3393536 | olinda\n",
      "Processing 399 of 626 | id: 5262680 | merrill\n",
      "City data not found\n",
      "Processing 401 of 626 | id: 2501152 | constantine\n",
      "Processing 402 of 626 | id: 6536842 | cortona\n",
      "Processing 403 of 626 | id: 2629833 | husavik\n",
      "Processing 404 of 626 | id: 5746545 | portland\n",
      "Processing 405 of 626 | id: 1622318 | waingapu\n",
      "Processing 406 of 626 | id: 3374210 | sao filipe\n",
      "Processing 407 of 626 | id: 2172880 | byron bay\n",
      "Processing 408 of 626 | id: 140463 | birjand\n",
      "Processing 409 of 626 | id: 1252783 | yarada\n",
      "Processing 410 of 626 | id: 2618795 | klaksvik\n",
      "Processing 411 of 626 | id: 2070998 | geraldton\n",
      "Processing 412 of 626 | id: 365763 | tonj\n",
      "Processing 413 of 626 | id: 1629974 | rantepao\n",
      "Processing 414 of 626 | id: 2120612 | tigil\n",
      "Processing 415 of 626 | id: 286621 | salalah\n",
      "Processing 416 of 626 | id: 680870 | corbu\n",
      "Processing 417 of 626 | id: 2757220 | den helder\n",
      "Processing 418 of 626 | id: 1648759 | bima\n",
      "Processing 419 of 626 | id: 3146487 | raudeberg\n",
      "Processing 420 of 626 | id: 1489853 | tazovskiy\n",
      "City data not found\n",
      "City data not found\n",
      "Processing 423 of 626 | id: 1045114 | inhambane\n",
      "Processing 424 of 626 | id: 2181988 | takapau\n",
      "Processing 425 of 626 | id: 1528998 | yumen\n",
      "Processing 426 of 626 | id: 1497337 | kayerkan\n",
      "Processing 427 of 626 | id: 55671 | kismayo\n",
      "Processing 428 of 626 | id: 4034551 | faanui\n",
      "Processing 429 of 626 | id: 8079926 | labuhan\n",
      "Processing 430 of 626 | id: 3137469 | sorland\n",
      "Processing 431 of 626 | id: 3936456 | lima\n",
      "Processing 432 of 626 | id: 1529102 | urumqi\n",
      "Processing 433 of 626 | id: 2121025 | srednekolymsk\n",
      "Processing 434 of 626 | id: 2012530 | zhigansk\n",
      "Processing 435 of 626 | id: 539385 | kuloy\n",
      "Processing 436 of 626 | id: 2156643 | mount gambier\n",
      "Processing 437 of 626 | id: 1213855 | sibolga\n",
      "Processing 438 of 626 | id: 884979 | mutare\n",
      "Processing 439 of 626 | id: 3145614 | mo i rana\n",
      "Processing 440 of 626 | id: 4726521 | san patricio\n",
      "City data not found\n",
      "Processing 442 of 626 | id: 560513 | golubitskaya\n",
      "Processing 443 of 626 | id: 1529376 | korla\n",
      "Processing 444 of 626 | id: 1797117 | rongcheng\n",
      "Processing 445 of 626 | id: 1512101 | agirish\n",
      "Processing 446 of 626 | id: 2515271 | las palmas\n",
      "Processing 447 of 626 | id: 3372783 | ponta delgada\n",
      "Processing 448 of 626 | id: 1735106 | george town\n",
      "Processing 449 of 626 | id: 2142316 | yeppoon\n",
      "Processing 450 of 626 | id: 3460954 | itabirito\n",
      "Processing 451 of 626 | id: 3406545 | balsas\n",
      "Processing 452 of 626 | id: 2034834 | shuangcheng\n",
      "Processing 453 of 626 | id: 2434985 | bokoro\n",
      "City data not found\n",
      "Processing 455 of 626 | id: 1805733 | jinchang\n",
      "Processing 456 of 626 | id: 2100633 | arawa\n",
      "Processing 457 of 626 | id: 508068 | podosinovets\n",
      "Processing 458 of 626 | id: 2120591 | tilichiki\n",
      "Processing 459 of 626 | id: 2134814 | sola\n",
      "Processing 460 of 626 | id: 3527213 | guerrero\n",
      "Processing 461 of 626 | id: 1517323 | zhanakorgan\n",
      "City data not found\n",
      "Processing 463 of 626 | id: 3394372 | morros\n",
      "Processing 464 of 626 | id: 5870133 | nome\n",
      "Processing 465 of 626 | id: 5546220 | saint george\n",
      "Processing 466 of 626 | id: 2641519 | newtownards\n",
      "Processing 467 of 626 | id: 2439155 | tanout\n",
      "Processing 468 of 626 | id: 5229794 | mitchell\n",
      "Processing 469 of 626 | id: 2068110 | kununurra\n",
      "Processing 470 of 626 | id: 1710519 | isabela\n",
      "Processing 471 of 626 | id: 552256 | karpogory\n",
      "Processing 472 of 626 | id: 157429 | kilindoni\n",
      "Processing 473 of 626 | id: 5309842 | prescott\n",
      "Processing 474 of 626 | id: 5467024 | espanola\n",
      "Processing 475 of 626 | id: 4696233 | harlingen\n",
      "City data not found\n",
      "Processing 477 of 626 | id: 3115824 | muros\n",
      "Processing 478 of 626 | id: 4465088 | elizabeth city\n",
      "Processing 479 of 626 | id: 1525988 | ayagoz\n",
      "Processing 480 of 626 | id: 3521972 | panaba\n",
      "Processing 481 of 626 | id: 2015686 | talakan\n",
      "Processing 482 of 626 | id: 1632694 | pangkalanbuun\n",
      "Processing 483 of 626 | id: 2186239 | new plymouth\n",
      "Processing 484 of 626 | id: 3881102 | machali\n",
      "Processing 485 of 626 | id: 178522 | voi\n",
      "Processing 486 of 626 | id: 3684860 | el bordo\n",
      "Processing 487 of 626 | id: 2512186 | puerto del rosario\n",
      "Processing 488 of 626 | id: 6180550 | whitehorse\n",
      "Processing 489 of 626 | id: 368246 | raga\n",
      "Processing 490 of 626 | id: 2420826 | gaoual\n",
      "Processing 491 of 626 | id: 3456070 | novo cruzeiro\n",
      "Processing 492 of 626 | id: 516716 | nurlat\n",
      "Processing 493 of 626 | id: 2155742 | narrabri\n",
      "Processing 494 of 626 | id: 2079582 | alyangula\n",
      "City data not found\n",
      "City data not found\n",
      "Processing 497 of 626 | id: 6164831 | thessalon\n",
      "Processing 498 of 626 | id: 2189343 | kaeo\n",
      "Processing 499 of 626 | id: 6621469 | arcachon\n",
      "Processing 500 of 626 | id: 3449176 | sao francisco\n",
      "Processing 501 of 626 | id: 4513583 | hamilton\n",
      "Processing 502 of 626 | id: 3838233 | salta\n",
      "Processing 503 of 626 | id: 3892454 | diego de almagro\n",
      "Processing 504 of 626 | id: 2068655 | katherine\n",
      "Processing 505 of 626 | id: 3450288 | santa cruz cabralia\n",
      "Processing 506 of 626 | id: 3361142 | springbok\n",
      "Processing 507 of 626 | id: 1507679 | chulym\n",
      "Processing 508 of 626 | id: 2016307 | solnechnyy\n",
      "City data not found\n",
      "Processing 510 of 626 | id: 2319078 | wawa\n",
      "Processing 511 of 626 | id: 2020738 | litovko\n",
      "Processing 512 of 626 | id: 58933 | garowe\n",
      "Processing 513 of 626 | id: 490743 | solvychegodsk\n",
      "Processing 514 of 626 | id: 3421193 | paamiut\n",
      "Processing 515 of 626 | id: 260895 | karpathos\n",
      "Processing 516 of 626 | id: 3038638 | agde\n",
      "Processing 517 of 626 | id: 721159 | encs\n",
      "Processing 518 of 626 | id: 2013279 | vostok\n",
      "Processing 519 of 626 | id: 292968 | abu dhabi\n",
      "Processing 520 of 626 | id: 2319257 | wamba\n",
      "Processing 521 of 626 | id: 556961 | ilovlya\n",
      "Processing 522 of 626 | id: 3933104 | pangoa\n",
      "Processing 523 of 626 | id: 2389691 | batangafo\n",
      "Processing 524 of 626 | id: 988698 | knysna\n",
      "Processing 525 of 626 | id: 2033135 | zhengjiatun\n",
      "Processing 526 of 626 | id: 2122574 | ola\n",
      "Processing 527 of 626 | id: 2122614 | okha\n",
      "Processing 528 of 626 | id: 1260206 | pasighat\n",
      "Processing 529 of 626 | id: 2165478 | gladstone\n",
      "Processing 530 of 626 | id: 3877949 | osorno\n",
      "Processing 531 of 626 | id: 3397851 | itupiranga\n",
      "Processing 532 of 626 | id: 5866583 | kodiak\n",
      "Processing 533 of 626 | id: 1283334 | ilam\n",
      "Processing 534 of 626 | id: 2012956 | yerbogachen\n",
      "Processing 535 of 626 | id: 1506676 | gari\n",
      "Processing 536 of 626 | id: 3598787 | champerico\n",
      "Processing 537 of 626 | id: 1512019 | aksarka\n",
      "Processing 538 of 626 | id: 6137462 | saint-augustin\n",
      "Processing 539 of 626 | id: 3440777 | rocha\n",
      "Processing 540 of 626 | id: 1804979 | juegang\n",
      "Processing 541 of 626 | id: 1730622 | anito\n",
      "Processing 542 of 626 | id: 2206874 | waipawa\n",
      "Processing 543 of 626 | id: 1688859 | san nicolas\n",
      "Processing 544 of 626 | id: 3145614 | storforshei\n",
      "Processing 545 of 626 | id: 2127202 | anadyr\n",
      "Processing 546 of 626 | id: 88834 | tukrah\n",
      "Processing 547 of 626 | id: 6354897 | riviere-du-loup\n",
      "Processing 548 of 626 | id: 2654728 | bridlington\n",
      "Processing 549 of 626 | id: 2194098 | ahipara\n",
      "Processing 550 of 626 | id: 2242001 | caxito\n",
      "Processing 551 of 626 | id: 1640344 | kendari\n",
      "Processing 552 of 626 | id: 215605 | kabare\n",
      "Processing 553 of 626 | id: 3381538 | grand-santi\n"
     ]
    },
    {
     "name": "stdout",
     "output_type": "stream",
     "text": [
      "City data not found\n",
      "Processing 555 of 626 | id: 1526041 | atasu\n",
      "Processing 556 of 626 | id: 174448 | abu kamal\n",
      "Processing 557 of 626 | id: 1274989 | candolim\n",
      "Processing 558 of 626 | id: 3038333 | ajaccio\n",
      "Processing 559 of 626 | id: 762199 | pionki\n",
      "Processing 560 of 626 | id: 3694112 | paita\n",
      "Processing 561 of 626 | id: 3981432 | todos santos\n",
      "Processing 562 of 626 | id: 2400578 | fougamou\n",
      "Processing 563 of 626 | id: 2015852 | svetlaya\n",
      "Processing 564 of 626 | id: 697692 | peremyshlyany\n",
      "Processing 565 of 626 | id: 2180815 | tuatapere\n",
      "Processing 566 of 626 | id: 2387546 | bozoum\n",
      "Processing 567 of 626 | id: 152663 | mugumu\n",
      "City data not found\n",
      "Processing 569 of 626 | id: 609924 | emba\n",
      "Processing 570 of 626 | id: 2643044 | margate\n",
      "Processing 571 of 626 | id: 779622 | havoysund\n",
      "Processing 572 of 626 | id: 3870282 | talcahuano\n",
      "Processing 573 of 626 | id: 1280037 | shache\n",
      "Processing 574 of 626 | id: 2063039 | port keats\n",
      "City data not found\n",
      "Processing 576 of 626 | id: 2120400 | tungor\n",
      "Processing 577 of 626 | id: 1630639 | pringsewu\n",
      "Processing 578 of 626 | id: 3692073 | santiago de cao\n",
      "City data not found\n",
      "Processing 580 of 626 | id: 1273673 | daitari\n",
      "Processing 581 of 626 | id: 2400547 | gamba\n",
      "Processing 582 of 626 | id: 3104133 | aleksandrow kujawski\n",
      "Processing 583 of 626 | id: 5197850 | lewistown\n",
      "Processing 584 of 626 | id: 2063036 | port lincoln\n",
      "Processing 585 of 626 | id: 3448903 | sao joao da barra\n",
      "Processing 586 of 626 | id: 1510689 | baykit\n",
      "Processing 587 of 626 | id: 934479 | grand gaube\n",
      "Processing 588 of 626 | id: 2447513 | arlit\n",
      "Processing 589 of 626 | id: 2399001 | mayumba\n",
      "Processing 590 of 626 | id: 6145890 | shelburne\n",
      "Processing 591 of 626 | id: 2349788 | ankpa\n",
      "City data not found\n",
      "Processing 593 of 626 | id: 287832 | ibra\n",
      "Processing 594 of 626 | id: 4013679 | coahuayana\n",
      "Processing 595 of 626 | id: 3527795 | escarcega\n",
      "Processing 596 of 626 | id: 778707 | mehamn\n",
      "Processing 597 of 626 | id: 2037799 | datong\n",
      "City data not found\n",
      "Processing 599 of 626 | id: 477940 | ust-tsilma\n",
      "Processing 600 of 626 | id: 3649833 | acarigua\n",
      "City data not found\n",
      "Processing 602 of 626 | id: 583472 | alakurtti\n",
      "Processing 603 of 626 | id: 2128975 | nemuro\n",
      "Processing 604 of 626 | id: 6538766 | poggiomarino\n",
      "Processing 605 of 626 | id: 2036075 | lingyuan\n",
      "Processing 606 of 626 | id: 3838859 | rio gallegos\n",
      "Processing 607 of 626 | id: 905789 | mpongwe\n",
      "Processing 608 of 626 | id: 3675692 | magangue\n",
      "Processing 609 of 626 | id: 2161515 | kiama\n",
      "Processing 610 of 626 | id: 2644605 | lerwick\n",
      "Processing 611 of 626 | id: 2064735 | nhulunbuy\n",
      "Processing 612 of 626 | id: 3464363 | edeia\n",
      "Processing 613 of 626 | id: 2059470 | victor harbor\n",
      "Processing 614 of 626 | id: 6148373 | sioux lookout\n",
      "Processing 615 of 626 | id: 256952 | milos\n",
      "Processing 616 of 626 | id: 4898433 | kewanee\n",
      "Processing 617 of 626 | id: 1638368 | kaili\n",
      "Processing 618 of 626 | id: 2755632 | geldermalsen\n",
      "Processing 619 of 626 | id: 245338 | am timan\n",
      "Processing 620 of 626 | id: 3014175 | gujan-mestras\n",
      "Processing 621 of 626 | id: 2527087 | tiznit\n",
      "Processing 622 of 626 | id: 2028028 | aksha\n",
      "Processing 623 of 626 | id: 3128760 | barcelona\n",
      "Processing 624 of 626 | id: 1698289 | pundaguitan\n",
      "Processing 625 of 626 | id: 1701054 | marawi\n",
      "Processing 626 of 626 | id: 585221 | quba\n"
     ]
    }
   ],
   "source": [
    "# API request by city name\n",
    "\n",
    "# set up lists to hold reponse info\n",
    "lat = []\n",
    "lon = []\n",
    "max_temp = []\n",
    "humidity = []\n",
    "cloudiness = []\n",
    "wind_speed = []\n",
    "country = []\n",
    "date = []\n",
    "city_with_data = []\n",
    "\n",
    "\n",
    "# Loop through the list of cities and perform a request for data on each\n",
    "for city in cities:\n",
    "    # Only include cities with comprehensive weather data\n",
    "    try:\n",
    "        query_url = f'https://api.openweathermap.org/data/2.5/weather?q={city}&appid={weather_api_key}&units=imperial'\n",
    "        response = requests.get(query_url).json()\n",
    "        lat.append(response['coord']['lat'])\n",
    "        lon.append(response['coord']['lon'])\n",
    "        max_temp.append(response['main']['temp_max'])\n",
    "        humidity.append(response['main']['humidity'])\n",
    "        cloudiness.append(response['clouds']['all'])\n",
    "        wind_speed.append(response['wind']['speed'])\n",
    "        country.append(response['sys']['country'])\n",
    "        date.append(response['dt'])\n",
    "        city_with_data.append(response['name'])\n",
    "        city_id = response['id']\n",
    "        print(f'Processing {cities.index(city)+1} of {len(cities)} | id: {city_id} | {city}')\n",
    "    except KeyError:\n",
    "        print('City data not found')"
   ]
  },
  {
   "cell_type": "markdown",
   "metadata": {},
   "source": [
    "### Convert Raw Data to DataFrame\n",
    "* Export the city data into a .csv.\n",
    "* Display the DataFrame"
   ]
  },
  {
   "cell_type": "code",
   "execution_count": 4,
   "metadata": {},
   "outputs": [
    {
     "data": {
      "text/html": [
       "<div>\n",
       "<style scoped>\n",
       "    .dataframe tbody tr th:only-of-type {\n",
       "        vertical-align: middle;\n",
       "    }\n",
       "\n",
       "    .dataframe tbody tr th {\n",
       "        vertical-align: top;\n",
       "    }\n",
       "\n",
       "    .dataframe thead th {\n",
       "        text-align: right;\n",
       "    }\n",
       "</style>\n",
       "<table border=\"1\" class=\"dataframe\">\n",
       "  <thead>\n",
       "    <tr style=\"text-align: right;\">\n",
       "      <th></th>\n",
       "      <th>City</th>\n",
       "      <th>Lat</th>\n",
       "      <th>Lng</th>\n",
       "      <th>Max Temp</th>\n",
       "      <th>Humidity</th>\n",
       "      <th>Cloudiness</th>\n",
       "      <th>Wind Speed</th>\n",
       "      <th>Country</th>\n",
       "      <th>Date</th>\n",
       "    </tr>\n",
       "  </thead>\n",
       "  <tbody>\n",
       "    <tr>\n",
       "      <th>0</th>\n",
       "      <td>Kutum</td>\n",
       "      <td>14.2000</td>\n",
       "      <td>24.6667</td>\n",
       "      <td>82.47</td>\n",
       "      <td>20</td>\n",
       "      <td>23</td>\n",
       "      <td>6.91</td>\n",
       "      <td>SD</td>\n",
       "      <td>1666200986</td>\n",
       "    </tr>\n",
       "    <tr>\n",
       "      <th>1</th>\n",
       "      <td>Castro</td>\n",
       "      <td>-24.7911</td>\n",
       "      <td>-50.0119</td>\n",
       "      <td>73.36</td>\n",
       "      <td>71</td>\n",
       "      <td>36</td>\n",
       "      <td>6.42</td>\n",
       "      <td>BR</td>\n",
       "      <td>1666200987</td>\n",
       "    </tr>\n",
       "    <tr>\n",
       "      <th>2</th>\n",
       "      <td>Hilo</td>\n",
       "      <td>19.7297</td>\n",
       "      <td>-155.0900</td>\n",
       "      <td>80.28</td>\n",
       "      <td>82</td>\n",
       "      <td>100</td>\n",
       "      <td>4.61</td>\n",
       "      <td>US</td>\n",
       "      <td>1666200987</td>\n",
       "    </tr>\n",
       "    <tr>\n",
       "      <th>3</th>\n",
       "      <td>Busselton</td>\n",
       "      <td>-33.6500</td>\n",
       "      <td>115.3333</td>\n",
       "      <td>57.85</td>\n",
       "      <td>88</td>\n",
       "      <td>29</td>\n",
       "      <td>5.77</td>\n",
       "      <td>AU</td>\n",
       "      <td>1666200988</td>\n",
       "    </tr>\n",
       "    <tr>\n",
       "      <th>4</th>\n",
       "      <td>Avarua</td>\n",
       "      <td>-21.2078</td>\n",
       "      <td>-159.7750</td>\n",
       "      <td>73.45</td>\n",
       "      <td>78</td>\n",
       "      <td>75</td>\n",
       "      <td>9.22</td>\n",
       "      <td>CK</td>\n",
       "      <td>1666200988</td>\n",
       "    </tr>\n",
       "  </tbody>\n",
       "</table>\n",
       "</div>"
      ],
      "text/plain": [
       "        City      Lat       Lng  Max Temp  Humidity  Cloudiness  Wind Speed  \\\n",
       "0      Kutum  14.2000   24.6667     82.47        20          23        6.91   \n",
       "1     Castro -24.7911  -50.0119     73.36        71          36        6.42   \n",
       "2       Hilo  19.7297 -155.0900     80.28        82         100        4.61   \n",
       "3  Busselton -33.6500  115.3333     57.85        88          29        5.77   \n",
       "4     Avarua -21.2078 -159.7750     73.45        78          75        9.22   \n",
       "\n",
       "  Country        Date  \n",
       "0      SD  1666200986  \n",
       "1      BR  1666200987  \n",
       "2      US  1666200987  \n",
       "3      AU  1666200988  \n",
       "4      CK  1666200988  "
      ]
     },
     "execution_count": 4,
     "metadata": {},
     "output_type": "execute_result"
    }
   ],
   "source": [
    "# create a data frame from lists\n",
    "weather_dict = {\n",
    "    \"City\": city_with_data,\n",
    "    \"Lat\": lat,\n",
    "    \"Lng\": lon,\n",
    "    \"Max Temp\": max_temp,\n",
    "    \"Humidity\": humidity,\n",
    "    \"Cloudiness\": cloudiness,\n",
    "    \"Wind Speed\": wind_speed,\n",
    "    \"Country\": country,\n",
    "    \"Date\": date\n",
    "}\n",
    "weather_data = pd.DataFrame(weather_dict)\n",
    "weather_data.head()"
   ]
  },
  {
   "cell_type": "code",
   "execution_count": 5,
   "metadata": {},
   "outputs": [],
   "source": [
    "# Save Data to csv\n",
    "weather_data.to_csv(\"output_data/weather_data.csv\")"
   ]
  },
  {
   "cell_type": "code",
   "execution_count": 6,
   "metadata": {},
   "outputs": [
    {
     "data": {
      "text/html": [
       "<div>\n",
       "<style scoped>\n",
       "    .dataframe tbody tr th:only-of-type {\n",
       "        vertical-align: middle;\n",
       "    }\n",
       "\n",
       "    .dataframe tbody tr th {\n",
       "        vertical-align: top;\n",
       "    }\n",
       "\n",
       "    .dataframe thead th {\n",
       "        text-align: right;\n",
       "    }\n",
       "</style>\n",
       "<table border=\"1\" class=\"dataframe\">\n",
       "  <thead>\n",
       "    <tr style=\"text-align: right;\">\n",
       "      <th></th>\n",
       "      <th>Lat</th>\n",
       "      <th>Lng</th>\n",
       "      <th>Max Temp</th>\n",
       "      <th>Humidity</th>\n",
       "      <th>Cloudiness</th>\n",
       "      <th>Wind Speed</th>\n",
       "      <th>Date</th>\n",
       "    </tr>\n",
       "  </thead>\n",
       "  <tbody>\n",
       "    <tr>\n",
       "      <th>count</th>\n",
       "      <td>572.000000</td>\n",
       "      <td>572.000000</td>\n",
       "      <td>572.000000</td>\n",
       "      <td>572.000000</td>\n",
       "      <td>572.000000</td>\n",
       "      <td>572.000000</td>\n",
       "      <td>5.720000e+02</td>\n",
       "    </tr>\n",
       "    <tr>\n",
       "      <th>mean</th>\n",
       "      <td>21.218962</td>\n",
       "      <td>21.736537</td>\n",
       "      <td>60.591469</td>\n",
       "      <td>70.772727</td>\n",
       "      <td>60.279720</td>\n",
       "      <td>8.789126</td>\n",
       "      <td>1.666201e+09</td>\n",
       "    </tr>\n",
       "    <tr>\n",
       "      <th>std</th>\n",
       "      <td>34.063202</td>\n",
       "      <td>89.440517</td>\n",
       "      <td>20.188066</td>\n",
       "      <td>21.773570</td>\n",
       "      <td>37.298842</td>\n",
       "      <td>6.165221</td>\n",
       "      <td>1.268867e+02</td>\n",
       "    </tr>\n",
       "    <tr>\n",
       "      <th>min</th>\n",
       "      <td>-54.800000</td>\n",
       "      <td>-175.200000</td>\n",
       "      <td>-8.280000</td>\n",
       "      <td>10.000000</td>\n",
       "      <td>0.000000</td>\n",
       "      <td>0.000000</td>\n",
       "      <td>1.666200e+09</td>\n",
       "    </tr>\n",
       "    <tr>\n",
       "      <th>25%</th>\n",
       "      <td>-7.960850</td>\n",
       "      <td>-55.382750</td>\n",
       "      <td>44.600000</td>\n",
       "      <td>61.000000</td>\n",
       "      <td>24.000000</td>\n",
       "      <td>4.307500</td>\n",
       "      <td>1.666201e+09</td>\n",
       "    </tr>\n",
       "    <tr>\n",
       "      <th>50%</th>\n",
       "      <td>27.996950</td>\n",
       "      <td>24.610350</td>\n",
       "      <td>64.275000</td>\n",
       "      <td>77.000000</td>\n",
       "      <td>71.000000</td>\n",
       "      <td>7.560000</td>\n",
       "      <td>1.666201e+09</td>\n",
       "    </tr>\n",
       "    <tr>\n",
       "      <th>75%</th>\n",
       "      <td>50.549900</td>\n",
       "      <td>99.168250</td>\n",
       "      <td>76.755000</td>\n",
       "      <td>88.000000</td>\n",
       "      <td>99.000000</td>\n",
       "      <td>11.740000</td>\n",
       "      <td>1.666201e+09</td>\n",
       "    </tr>\n",
       "    <tr>\n",
       "      <th>max</th>\n",
       "      <td>78.218600</td>\n",
       "      <td>179.316700</td>\n",
       "      <td>102.420000</td>\n",
       "      <td>100.000000</td>\n",
       "      <td>100.000000</td>\n",
       "      <td>34.520000</td>\n",
       "      <td>1.666201e+09</td>\n",
       "    </tr>\n",
       "  </tbody>\n",
       "</table>\n",
       "</div>"
      ],
      "text/plain": [
       "              Lat         Lng    Max Temp    Humidity  Cloudiness  Wind Speed  \\\n",
       "count  572.000000  572.000000  572.000000  572.000000  572.000000  572.000000   \n",
       "mean    21.218962   21.736537   60.591469   70.772727   60.279720    8.789126   \n",
       "std     34.063202   89.440517   20.188066   21.773570   37.298842    6.165221   \n",
       "min    -54.800000 -175.200000   -8.280000   10.000000    0.000000    0.000000   \n",
       "25%     -7.960850  -55.382750   44.600000   61.000000   24.000000    4.307500   \n",
       "50%     27.996950   24.610350   64.275000   77.000000   71.000000    7.560000   \n",
       "75%     50.549900   99.168250   76.755000   88.000000   99.000000   11.740000   \n",
       "max     78.218600  179.316700  102.420000  100.000000  100.000000   34.520000   \n",
       "\n",
       "               Date  \n",
       "count  5.720000e+02  \n",
       "mean   1.666201e+09  \n",
       "std    1.268867e+02  \n",
       "min    1.666200e+09  \n",
       "25%    1.666201e+09  \n",
       "50%    1.666201e+09  \n",
       "75%    1.666201e+09  \n",
       "max    1.666201e+09  "
      ]
     },
     "execution_count": 6,
     "metadata": {},
     "output_type": "execute_result"
    }
   ],
   "source": [
    "# Print dataframe summary statistics\n",
    "weather_data.describe()"
   ]
  },
  {
   "cell_type": "markdown",
   "metadata": {},
   "source": [
    "## Inspect the data and remove the cities where the humidity > 100%.\n",
    "----\n",
    "Skip this step if there are no cities that have humidity > 100%. "
   ]
  },
  {
   "cell_type": "code",
   "execution_count": 7,
   "metadata": {},
   "outputs": [
    {
     "data": {
      "text/html": [
       "<div>\n",
       "<style scoped>\n",
       "    .dataframe tbody tr th:only-of-type {\n",
       "        vertical-align: middle;\n",
       "    }\n",
       "\n",
       "    .dataframe tbody tr th {\n",
       "        vertical-align: top;\n",
       "    }\n",
       "\n",
       "    .dataframe thead th {\n",
       "        text-align: right;\n",
       "    }\n",
       "</style>\n",
       "<table border=\"1\" class=\"dataframe\">\n",
       "  <thead>\n",
       "    <tr style=\"text-align: right;\">\n",
       "      <th></th>\n",
       "      <th>City</th>\n",
       "      <th>Lat</th>\n",
       "      <th>Lng</th>\n",
       "      <th>Max Temp</th>\n",
       "      <th>Humidity</th>\n",
       "      <th>Cloudiness</th>\n",
       "      <th>Wind Speed</th>\n",
       "      <th>Country</th>\n",
       "      <th>Date</th>\n",
       "    </tr>\n",
       "  </thead>\n",
       "  <tbody>\n",
       "  </tbody>\n",
       "</table>\n",
       "</div>"
      ],
      "text/plain": [
       "Empty DataFrame\n",
       "Columns: [City, Lat, Lng, Max Temp, Humidity, Cloudiness, Wind Speed, Country, Date]\n",
       "Index: []"
      ]
     },
     "execution_count": 7,
     "metadata": {},
     "output_type": "execute_result"
    }
   ],
   "source": [
    "humid_cities = weather_data.loc[weather_data['Humidity'] > 100]\n",
    "humid_cities"
   ]
  },
  {
   "cell_type": "code",
   "execution_count": 8,
   "metadata": {},
   "outputs": [
    {
     "name": "stdout",
     "output_type": "stream",
     "text": [
      "There are no cities with humidity over 100%\n"
     ]
    }
   ],
   "source": [
    "#  Get the indices of cities that have humidity over 100%.\n",
    "\n",
    "print('There are no cities with humidity over 100%')"
   ]
  },
  {
   "cell_type": "code",
   "execution_count": 9,
   "metadata": {
    "scrolled": true
   },
   "outputs": [
    {
     "data": {
      "text/html": [
       "<div>\n",
       "<style scoped>\n",
       "    .dataframe tbody tr th:only-of-type {\n",
       "        vertical-align: middle;\n",
       "    }\n",
       "\n",
       "    .dataframe tbody tr th {\n",
       "        vertical-align: top;\n",
       "    }\n",
       "\n",
       "    .dataframe thead th {\n",
       "        text-align: right;\n",
       "    }\n",
       "</style>\n",
       "<table border=\"1\" class=\"dataframe\">\n",
       "  <thead>\n",
       "    <tr style=\"text-align: right;\">\n",
       "      <th></th>\n",
       "      <th>City</th>\n",
       "      <th>Lat</th>\n",
       "      <th>Lng</th>\n",
       "      <th>Max Temp</th>\n",
       "      <th>Humidity</th>\n",
       "      <th>Cloudiness</th>\n",
       "      <th>Wind Speed</th>\n",
       "      <th>Country</th>\n",
       "      <th>Date</th>\n",
       "    </tr>\n",
       "  </thead>\n",
       "  <tbody>\n",
       "    <tr>\n",
       "      <th>0</th>\n",
       "      <td>Kutum</td>\n",
       "      <td>14.2000</td>\n",
       "      <td>24.6667</td>\n",
       "      <td>82.47</td>\n",
       "      <td>20</td>\n",
       "      <td>23</td>\n",
       "      <td>6.91</td>\n",
       "      <td>SD</td>\n",
       "      <td>1666200986</td>\n",
       "    </tr>\n",
       "    <tr>\n",
       "      <th>1</th>\n",
       "      <td>Castro</td>\n",
       "      <td>-24.7911</td>\n",
       "      <td>-50.0119</td>\n",
       "      <td>73.36</td>\n",
       "      <td>71</td>\n",
       "      <td>36</td>\n",
       "      <td>6.42</td>\n",
       "      <td>BR</td>\n",
       "      <td>1666200987</td>\n",
       "    </tr>\n",
       "    <tr>\n",
       "      <th>2</th>\n",
       "      <td>Hilo</td>\n",
       "      <td>19.7297</td>\n",
       "      <td>-155.0900</td>\n",
       "      <td>80.28</td>\n",
       "      <td>82</td>\n",
       "      <td>100</td>\n",
       "      <td>4.61</td>\n",
       "      <td>US</td>\n",
       "      <td>1666200987</td>\n",
       "    </tr>\n",
       "    <tr>\n",
       "      <th>3</th>\n",
       "      <td>Busselton</td>\n",
       "      <td>-33.6500</td>\n",
       "      <td>115.3333</td>\n",
       "      <td>57.85</td>\n",
       "      <td>88</td>\n",
       "      <td>29</td>\n",
       "      <td>5.77</td>\n",
       "      <td>AU</td>\n",
       "      <td>1666200988</td>\n",
       "    </tr>\n",
       "    <tr>\n",
       "      <th>4</th>\n",
       "      <td>Avarua</td>\n",
       "      <td>-21.2078</td>\n",
       "      <td>-159.7750</td>\n",
       "      <td>73.45</td>\n",
       "      <td>78</td>\n",
       "      <td>75</td>\n",
       "      <td>9.22</td>\n",
       "      <td>CK</td>\n",
       "      <td>1666200988</td>\n",
       "    </tr>\n",
       "  </tbody>\n",
       "</table>\n",
       "</div>"
      ],
      "text/plain": [
       "        City      Lat       Lng  Max Temp  Humidity  Cloudiness  Wind Speed  \\\n",
       "0      Kutum  14.2000   24.6667     82.47        20          23        6.91   \n",
       "1     Castro -24.7911  -50.0119     73.36        71          36        6.42   \n",
       "2       Hilo  19.7297 -155.0900     80.28        82         100        4.61   \n",
       "3  Busselton -33.6500  115.3333     57.85        88          29        5.77   \n",
       "4     Avarua -21.2078 -159.7750     73.45        78          75        9.22   \n",
       "\n",
       "  Country        Date  \n",
       "0      SD  1666200986  \n",
       "1      BR  1666200987  \n",
       "2      US  1666200987  \n",
       "3      AU  1666200988  \n",
       "4      CK  1666200988  "
      ]
     },
     "execution_count": 9,
     "metadata": {},
     "output_type": "execute_result"
    }
   ],
   "source": [
    "# Make a new DataFrame equal to the city data to drop all humidity outliers by index.\n",
    "# Passing \"inplace=False\" will make a copy of the city_data DataFrame, which we call \"clean_city_data\".\n",
    "clean_city_data = weather_data.copy()\n",
    "clean_city_data.head()"
   ]
  },
  {
   "cell_type": "markdown",
   "metadata": {},
   "source": [
    "## Plotting the Data\n",
    "* Use proper labeling of the plots using plot titles (including date of analysis) and axes labels.\n",
    "* Save the plotted figures as .pngs."
   ]
  },
  {
   "cell_type": "markdown",
   "metadata": {},
   "source": [
    "## Latitude vs. Temperature Plot"
   ]
  },
  {
   "cell_type": "code",
   "execution_count": 11,
   "metadata": {
    "scrolled": false
   },
   "outputs": [
    {
     "data": {
      "image/png": "[encoded data removed]",
      "text/plain": [
       "<Figure size 432x288 with 1 Axes>"
      ]
     },
     "metadata": {
      "needs_background": "light"
     },
     "output_type": "display_data"
    }
   ],
   "source": [
    "# Build a scatter plot \n",
    "plt.scatter(clean_city_data[\"Lat\"], clean_city_data[\"Max Temp\"], marker=\"o\")\n",
    "\n",
    "# Incorporate the other graph properties\n",
    "plt.title(\"City Latitude vs. Max Temperature (10/19/22)\")\n",
    "plt.ylabel(\"Max Temperature (F)\")\n",
    "plt.xlabel(\"Latitude\")\n",
    "plt.grid(True)\n",
    "\n",
    "# Save the figure\n",
    "plt.savefig(\"output_data/Fig1.png\")\n",
    "\n",
    "# Show plot\n",
    "plt.show()"
   ]
  },
  {
   "cell_type": "markdown",
   "metadata": {},
   "source": [
    "Temperatures seem to be at their highest near the equator and they drop off as you move farther away from the equator. The northern hemisphere has the coldest temperatures."
   ]
  },
  {
   "cell_type": "markdown",
   "metadata": {},
   "source": [
    "## Latitude vs. Humidity Plot"
   ]
  },
  {
   "cell_type": "code",
   "execution_count": 12,
   "metadata": {},
   "outputs": [
    {
     "data": {
      "image/png": "[encoded data removed]",
      "text/plain": [
       "<Figure size 432x288 with 1 Axes>"
      ]
     },
     "metadata": {
      "needs_background": "light"
     },
     "output_type": "display_data"
    }
   ],
   "source": [
    "# Build a scatter plot \n",
    "plt.scatter(clean_city_data[\"Lat\"], clean_city_data[\"Humidity\"], marker=\"o\")\n",
    "\n",
    "# Incorporate the other graph properties\n",
    "plt.title(\"City Latitude vs. Humidity (10/19/22)\")\n",
    "plt.ylabel(\"Humidity (%)\")\n",
    "plt.xlabel(\"Latitude\")\n",
    "plt.grid(True)\n",
    "\n",
    "# Save the figure\n",
    "plt.savefig(\"output_data/Fig2.png\")\n",
    "\n",
    "# Show plot\n",
    "plt.show()"
   ]
  },
  {
   "cell_type": "markdown",
   "metadata": {},
   "source": [
    "The chart does not clearly indicate a correlation between latitude and humidity. The southern hemisphere appears to have a much more even distribution of humidity, but the northern hemisphere hints at higher humidities as you move farther away from the equator. "
   ]
  },
  {
   "cell_type": "markdown",
   "metadata": {},
   "source": [
    "## Latitude vs. Cloudiness Plot"
   ]
  },
  {
   "cell_type": "code",
   "execution_count": 13,
   "metadata": {},
   "outputs": [
    {
     "data": {
      "image/png": "[encoded data removed]",
      "text/plain": [
       "<Figure size 432x288 with 1 Axes>"
      ]
     },
     "metadata": {
      "needs_background": "light"
     },
     "output_type": "display_data"
    }
   ],
   "source": [
    "# Build a scatter plot \n",
    "plt.scatter(clean_city_data[\"Lat\"], clean_city_data[\"Cloudiness\"], marker=\"o\")\n",
    "\n",
    "# Incorporate the other graph properties\n",
    "plt.title(\"City Latitude vs. Cloudiness (10/19/22)\")\n",
    "plt.ylabel(\"Cloudiness (%)\")\n",
    "plt.xlabel(\"Latitude\")\n",
    "plt.grid(True)\n",
    "\n",
    "# Save the figure\n",
    "plt.savefig(\"output_data/Fig3.png\")\n",
    "\n",
    "# Show plot\n",
    "plt.show()"
   ]
  },
  {
   "cell_type": "markdown",
   "metadata": {},
   "source": [
    "There is little correlation between cloudiness and latitude. It appears that the rate of cloudiness is not affected by a city's latitude."
   ]
  },
  {
   "cell_type": "markdown",
   "metadata": {},
   "source": [
    "## Latitude vs. Wind Speed Plot"
   ]
  },
  {
   "cell_type": "code",
   "execution_count": 14,
   "metadata": {},
   "outputs": [
    {
     "data": {
      "image/png": "[encoded data removed]",
      "text/plain": [
       "<Figure size 432x288 with 1 Axes>"
      ]
     },
     "metadata": {
      "needs_background": "light"
     },
     "output_type": "display_data"
    }
   ],
   "source": [
    "# Build a scatter plot \n",
    "plt.scatter(clean_city_data[\"Lat\"], clean_city_data[\"Wind Speed\"], marker=\"o\")\n",
    "\n",
    "# Incorporate the other graph properties\n",
    "plt.title(\"City Latitude vs. Wind Speed (10/19/22)\")\n",
    "plt.ylabel(\"Wind Speed (mph)\")\n",
    "plt.xlabel(\"Latitude\")\n",
    "plt.grid(True)\n",
    "\n",
    "# Save the figure\n",
    "plt.savefig(\"output_data/Fig4.png\")\n",
    "\n",
    "# Show plot\n",
    "plt.show()"
   ]
  },
  {
   "cell_type": "markdown",
   "metadata": {},
   "source": [
    "Similar to cloudiness, there is little correlation between wind speed and latitude. It is rare to have wind speeds greater than 15mph but the closer to the norther hemisphere you go, the higher the wind speeds you encounter from an outlier perspective."
   ]
  },
  {
   "cell_type": "markdown",
   "metadata": {},
   "source": [
    "## Linear Regression"
   ]
  },
  {
   "cell_type": "code",
   "execution_count": 24,
   "metadata": {},
   "outputs": [
    {
     "data": {
      "text/html": [
       "<div>\n",
       "<style scoped>\n",
       "    .dataframe tbody tr th:only-of-type {\n",
       "        vertical-align: middle;\n",
       "    }\n",
       "\n",
       "    .dataframe tbody tr th {\n",
       "        vertical-align: top;\n",
       "    }\n",
       "\n",
       "    .dataframe thead th {\n",
       "        text-align: right;\n",
       "    }\n",
       "</style>\n",
       "<table border=\"1\" class=\"dataframe\">\n",
       "  <thead>\n",
       "    <tr style=\"text-align: right;\">\n",
       "      <th></th>\n",
       "      <th>Lat</th>\n",
       "      <th>Lng</th>\n",
       "      <th>Max Temp</th>\n",
       "      <th>Humidity</th>\n",
       "      <th>Cloudiness</th>\n",
       "      <th>Wind Speed</th>\n",
       "      <th>Date</th>\n",
       "    </tr>\n",
       "  </thead>\n",
       "  <tbody>\n",
       "    <tr>\n",
       "      <th>count</th>\n",
       "      <td>388.000000</td>\n",
       "      <td>388.000000</td>\n",
       "      <td>388.000000</td>\n",
       "      <td>388.000000</td>\n",
       "      <td>388.000000</td>\n",
       "      <td>388.000000</td>\n",
       "      <td>3.880000e+02</td>\n",
       "    </tr>\n",
       "    <tr>\n",
       "      <th>mean</th>\n",
       "      <td>41.157815</td>\n",
       "      <td>15.651904</td>\n",
       "      <td>55.267113</td>\n",
       "      <td>70.819588</td>\n",
       "      <td>60.659794</td>\n",
       "      <td>8.909330</td>\n",
       "      <td>1.666201e+09</td>\n",
       "    </tr>\n",
       "    <tr>\n",
       "      <th>std</th>\n",
       "      <td>19.644354</td>\n",
       "      <td>85.772056</td>\n",
       "      <td>21.069599</td>\n",
       "      <td>22.176027</td>\n",
       "      <td>39.103754</td>\n",
       "      <td>6.509269</td>\n",
       "      <td>1.301183e+02</td>\n",
       "    </tr>\n",
       "    <tr>\n",
       "      <th>min</th>\n",
       "      <td>0.048700</td>\n",
       "      <td>-173.300000</td>\n",
       "      <td>-8.280000</td>\n",
       "      <td>10.000000</td>\n",
       "      <td>0.000000</td>\n",
       "      <td>0.000000</td>\n",
       "      <td>1.666200e+09</td>\n",
       "    </tr>\n",
       "    <tr>\n",
       "      <th>25%</th>\n",
       "      <td>26.173900</td>\n",
       "      <td>-56.778725</td>\n",
       "      <td>39.140000</td>\n",
       "      <td>59.500000</td>\n",
       "      <td>20.000000</td>\n",
       "      <td>4.307500</td>\n",
       "      <td>1.666201e+09</td>\n",
       "    </tr>\n",
       "    <tr>\n",
       "      <th>50%</th>\n",
       "      <td>42.823800</td>\n",
       "      <td>20.856200</td>\n",
       "      <td>54.275000</td>\n",
       "      <td>77.000000</td>\n",
       "      <td>75.000000</td>\n",
       "      <td>7.400000</td>\n",
       "      <td>1.666201e+09</td>\n",
       "    </tr>\n",
       "    <tr>\n",
       "      <th>75%</th>\n",
       "      <td>58.089100</td>\n",
       "      <td>86.439350</td>\n",
       "      <td>74.107500</td>\n",
       "      <td>88.000000</td>\n",
       "      <td>100.000000</td>\n",
       "      <td>11.757500</td>\n",
       "      <td>1.666201e+09</td>\n",
       "    </tr>\n",
       "    <tr>\n",
       "      <th>max</th>\n",
       "      <td>78.218600</td>\n",
       "      <td>179.316700</td>\n",
       "      <td>97.180000</td>\n",
       "      <td>100.000000</td>\n",
       "      <td>100.000000</td>\n",
       "      <td>34.520000</td>\n",
       "      <td>1.666201e+09</td>\n",
       "    </tr>\n",
       "  </tbody>\n",
       "</table>\n",
       "</div>"
      ],
      "text/plain": [
       "              Lat         Lng    Max Temp    Humidity  Cloudiness  Wind Speed  \\\n",
       "count  388.000000  388.000000  388.000000  388.000000  388.000000  388.000000   \n",
       "mean    41.157815   15.651904   55.267113   70.819588   60.659794    8.909330   \n",
       "std     19.644354   85.772056   21.069599   22.176027   39.103754    6.509269   \n",
       "min      0.048700 -173.300000   -8.280000   10.000000    0.000000    0.000000   \n",
       "25%     26.173900  -56.778725   39.140000   59.500000   20.000000    4.307500   \n",
       "50%     42.823800   20.856200   54.275000   77.000000   75.000000    7.400000   \n",
       "75%     58.089100   86.439350   74.107500   88.000000  100.000000   11.757500   \n",
       "max     78.218600  179.316700   97.180000  100.000000  100.000000   34.520000   \n",
       "\n",
       "               Date  \n",
       "count  3.880000e+02  \n",
       "mean   1.666201e+09  \n",
       "std    1.301183e+02  \n",
       "min    1.666200e+09  \n",
       "25%    1.666201e+09  \n",
       "50%    1.666201e+09  \n",
       "75%    1.666201e+09  \n",
       "max    1.666201e+09  "
      ]
     },
     "execution_count": 24,
     "metadata": {},
     "output_type": "execute_result"
    }
   ],
   "source": [
    "# Dataframe with cities in northern hemisphere\n",
    "northern_cities = clean_city_data.loc[clean_city_data['Lat'] >= 0]\n",
    "northern_cities.describe()"
   ]
  },
  {
   "cell_type": "code",
   "execution_count": 25,
   "metadata": {},
   "outputs": [
    {
     "data": {
      "text/html": [
       "<div>\n",
       "<style scoped>\n",
       "    .dataframe tbody tr th:only-of-type {\n",
       "        vertical-align: middle;\n",
       "    }\n",
       "\n",
       "    .dataframe tbody tr th {\n",
       "        vertical-align: top;\n",
       "    }\n",
       "\n",
       "    .dataframe thead th {\n",
       "        text-align: right;\n",
       "    }\n",
       "</style>\n",
       "<table border=\"1\" class=\"dataframe\">\n",
       "  <thead>\n",
       "    <tr style=\"text-align: right;\">\n",
       "      <th></th>\n",
       "      <th>Lat</th>\n",
       "      <th>Lng</th>\n",
       "      <th>Max Temp</th>\n",
       "      <th>Humidity</th>\n",
       "      <th>Cloudiness</th>\n",
       "      <th>Wind Speed</th>\n",
       "      <th>Date</th>\n",
       "    </tr>\n",
       "  </thead>\n",
       "  <tbody>\n",
       "    <tr>\n",
       "      <th>count</th>\n",
       "      <td>184.000000</td>\n",
       "      <td>184.000000</td>\n",
       "      <td>184.000000</td>\n",
       "      <td>184.000000</td>\n",
       "      <td>184.000000</td>\n",
       "      <td>184.000000</td>\n",
       "      <td>1.840000e+02</td>\n",
       "    </tr>\n",
       "    <tr>\n",
       "      <th>mean</th>\n",
       "      <td>-20.826010</td>\n",
       "      <td>34.567176</td>\n",
       "      <td>71.818913</td>\n",
       "      <td>70.673913</td>\n",
       "      <td>59.478261</td>\n",
       "      <td>8.535652</td>\n",
       "      <td>1.666201e+09</td>\n",
       "    </tr>\n",
       "    <tr>\n",
       "      <th>std</th>\n",
       "      <td>13.563217</td>\n",
       "      <td>95.700463</td>\n",
       "      <td>12.083938</td>\n",
       "      <td>20.958512</td>\n",
       "      <td>33.260022</td>\n",
       "      <td>5.375941</td>\n",
       "      <td>1.200272e+02</td>\n",
       "    </tr>\n",
       "    <tr>\n",
       "      <th>min</th>\n",
       "      <td>-54.800000</td>\n",
       "      <td>-175.200000</td>\n",
       "      <td>38.350000</td>\n",
       "      <td>12.000000</td>\n",
       "      <td>0.000000</td>\n",
       "      <td>0.000000</td>\n",
       "      <td>1.666201e+09</td>\n",
       "    </tr>\n",
       "    <tr>\n",
       "      <th>25%</th>\n",
       "      <td>-33.661775</td>\n",
       "      <td>-54.408875</td>\n",
       "      <td>64.690000</td>\n",
       "      <td>62.750000</td>\n",
       "      <td>35.500000</td>\n",
       "      <td>4.457500</td>\n",
       "      <td>1.666201e+09</td>\n",
       "    </tr>\n",
       "    <tr>\n",
       "      <th>50%</th>\n",
       "      <td>-20.243300</td>\n",
       "      <td>28.489600</td>\n",
       "      <td>73.310000</td>\n",
       "      <td>77.000000</td>\n",
       "      <td>60.500000</td>\n",
       "      <td>7.840000</td>\n",
       "      <td>1.666201e+09</td>\n",
       "    </tr>\n",
       "    <tr>\n",
       "      <th>75%</th>\n",
       "      <td>-8.714400</td>\n",
       "      <td>134.529150</td>\n",
       "      <td>78.580000</td>\n",
       "      <td>87.000000</td>\n",
       "      <td>93.000000</td>\n",
       "      <td>11.590000</td>\n",
       "      <td>1.666201e+09</td>\n",
       "    </tr>\n",
       "    <tr>\n",
       "      <th>max</th>\n",
       "      <td>-0.358200</td>\n",
       "      <td>176.350000</td>\n",
       "      <td>102.420000</td>\n",
       "      <td>100.000000</td>\n",
       "      <td>100.000000</td>\n",
       "      <td>28.770000</td>\n",
       "      <td>1.666201e+09</td>\n",
       "    </tr>\n",
       "  </tbody>\n",
       "</table>\n",
       "</div>"
      ],
      "text/plain": [
       "              Lat         Lng    Max Temp    Humidity  Cloudiness  Wind Speed  \\\n",
       "count  184.000000  184.000000  184.000000  184.000000  184.000000  184.000000   \n",
       "mean   -20.826010   34.567176   71.818913   70.673913   59.478261    8.535652   \n",
       "std     13.563217   95.700463   12.083938   20.958512   33.260022    5.375941   \n",
       "min    -54.800000 -175.200000   38.350000   12.000000    0.000000    0.000000   \n",
       "25%    -33.661775  -54.408875   64.690000   62.750000   35.500000    4.457500   \n",
       "50%    -20.243300   28.489600   73.310000   77.000000   60.500000    7.840000   \n",
       "75%     -8.714400  134.529150   78.580000   87.000000   93.000000   11.590000   \n",
       "max     -0.358200  176.350000  102.420000  100.000000  100.000000   28.770000   \n",
       "\n",
       "               Date  \n",
       "count  1.840000e+02  \n",
       "mean   1.666201e+09  \n",
       "std    1.200272e+02  \n",
       "min    1.666201e+09  \n",
       "25%    1.666201e+09  \n",
       "50%    1.666201e+09  \n",
       "75%    1.666201e+09  \n",
       "max    1.666201e+09  "
      ]
     },
     "execution_count": 25,
     "metadata": {},
     "output_type": "execute_result"
    }
   ],
   "source": [
    "# Dataframe with cities in southern hemisphere\n",
    "southern_cities = clean_city_data.loc[clean_city_data['Lat'] < 0]\n",
    "southern_cities.describe()"
   ]
  },
  {
   "cell_type": "markdown",
   "metadata": {},
   "source": [
    "####  Northern Hemisphere - Max Temp vs. Latitude Linear Regression"
   ]
  },
  {
   "cell_type": "code",
   "execution_count": 41,
   "metadata": {},
   "outputs": [
    {
     "name": "stdout",
     "output_type": "stream",
     "text": [
      "The r-value is: -0.867844432312026\n"
     ]
    },
    {
     "data": {
      "image/png": "[encoded data removed]",
      "text/plain": [
       "<Figure size 432x288 with 1 Axes>"
      ]
     },
     "metadata": {
      "needs_background": "light"
     },
     "output_type": "display_data"
    }
   ],
   "source": [
    "# Create scatter plot and add the linear regression equation and line to plot\n",
    "x_values = northern_cities['Lat']\n",
    "y_values = northern_cities['Max Temp']\n",
    "(slope, intercept, rvalue, pvalue, stderr) = linregress(x_values, y_values)\n",
    "regress_values = x_values * slope + intercept\n",
    "line_eq = \"y = \" + str(round(slope,2)) + \"x + \" + str(round(intercept,2))\n",
    "plt.scatter(x_values,y_values)\n",
    "plt.plot(x_values,regress_values,\"r-\")\n",
    "plt.annotate(line_eq,(0,-7),fontsize=15,color=\"red\")\n",
    "plt.xlabel('Latitude')\n",
    "plt.ylabel('Max Temp')\n",
    "\n",
    "# Save the figure\n",
    "plt.savefig(\"output_data/Fig5.png\")\n",
    "\n",
    "print(f\"The r-value is: {rvalue}\")\n",
    "plt.show()"
   ]
  },
  {
   "cell_type": "markdown",
   "metadata": {},
   "source": [
    "There is a strong negative correlation between temperature and latitude. Essentially, as you move farther away from the equator, temperatures decrease."
   ]
  },
  {
   "cell_type": "markdown",
   "metadata": {},
   "source": [
    "####  Southern Hemisphere - Max Temp vs. Latitude Linear Regression"
   ]
  },
  {
   "cell_type": "code",
   "execution_count": 42,
   "metadata": {},
   "outputs": [
    {
     "name": "stdout",
     "output_type": "stream",
     "text": [
      "The r-value is: 0.6246794444932112\n"
     ]
    },
    {
     "data": {
      "image/png": "[encoded data removed]",
      "text/plain": [
       "<Figure size 432x288 with 1 Axes>"
      ]
     },
     "metadata": {
      "needs_background": "light"
     },
     "output_type": "display_data"
    }
   ],
   "source": [
    "# Create scatter plot and add the linear regression equation and line to plot\n",
    "x_values = southern_cities['Lat']\n",
    "y_values = southern_cities['Max Temp']\n",
    "(slope, intercept, rvalue, pvalue, stderr) = linregress(x_values, y_values)\n",
    "regress_values = x_values * slope + intercept\n",
    "line_eq = \"y = \" + str(round(slope,2)) + \"x + \" + str(round(intercept,2))\n",
    "plt.scatter(x_values,y_values)\n",
    "plt.plot(x_values,regress_values,\"r-\")\n",
    "plt.annotate(line_eq,(-55,100),fontsize=15,color=\"red\")\n",
    "plt.xlabel('Latitude')\n",
    "plt.ylabel('Max Temp')\n",
    "\n",
    "# Save the figure\n",
    "plt.savefig(\"output_data/Fig6.png\")\n",
    "\n",
    "print(f\"The r-value is: {rvalue}\")\n",
    "plt.show()"
   ]
  },
  {
   "cell_type": "markdown",
   "metadata": {},
   "source": [
    "There is a moderate positive correlation between temperature and latitude in the southern hemisphere. The linear regression implies that temperatures increase as you move closer to the equator."
   ]
  },
  {
   "cell_type": "markdown",
   "metadata": {},
   "source": [
    "####  Northern Hemisphere - Humidity (%) vs. Latitude Linear Regression"
   ]
  },
  {
   "cell_type": "code",
   "execution_count": 43,
   "metadata": {},
   "outputs": [
    {
     "name": "stdout",
     "output_type": "stream",
     "text": [
      "The r-value is: 0.3356062908867169\n"
     ]
    },
    {
     "data": {
      "image/png": "[encoded data removed]",
      "text/plain": [
       "<Figure size 432x288 with 1 Axes>"
      ]
     },
     "metadata": {
      "needs_background": "light"
     },
     "output_type": "display_data"
    }
   ],
   "source": [
    "# Create scatter plot and add the linear regression equation and line to plot\n",
    "x_values = northern_cities['Lat']\n",
    "y_values = northern_cities['Humidity']\n",
    "(slope, intercept, rvalue, pvalue, stderr) = linregress(x_values, y_values)\n",
    "regress_values = x_values * slope + intercept\n",
    "line_eq = \"y = \" + str(round(slope,2)) + \"x + \" + str(round(intercept,2))\n",
    "plt.scatter(x_values,y_values)\n",
    "plt.plot(x_values,regress_values,\"r-\")\n",
    "plt.annotate(line_eq,(45,10),fontsize=15,color=\"red\")\n",
    "plt.xlabel('Latitude')\n",
    "plt.ylabel('Humidity')\n",
    "\n",
    "# Save the figure\n",
    "plt.savefig(\"output_data/Fig7.png\")\n",
    "\n",
    "print(f\"The r-value is: {rvalue}\")\n",
    "plt.show()"
   ]
  },
  {
   "cell_type": "markdown",
   "metadata": {},
   "source": [
    "The linear regression suggests a weak positive correlation between humidity and latitude in the northern hemisphere. Cities that are located farther away from the equator are more humid than those located closer to the equator."
   ]
  },
  {
   "cell_type": "markdown",
   "metadata": {},
   "source": [
    "####  Southern Hemisphere - Humidity (%) vs. Latitude Linear Regression"
   ]
  },
  {
   "cell_type": "code",
   "execution_count": 46,
   "metadata": {},
   "outputs": [
    {
     "name": "stdout",
     "output_type": "stream",
     "text": [
      "The r-value is: 0.04302034558703187\n"
     ]
    },
    {
     "data": {
      "image/png": "[encoded data removed]",
      "text/plain": [
       "<Figure size 432x288 with 1 Axes>"
      ]
     },
     "metadata": {
      "needs_background": "light"
     },
     "output_type": "display_data"
    }
   ],
   "source": [
    "# Create scatter plot and add the linear regression equation and line to plot\n",
    "x_values = southern_cities['Lat']\n",
    "y_values = southern_cities['Humidity']\n",
    "(slope, intercept, rvalue, pvalue, stderr) = linregress(x_values, y_values)\n",
    "regress_values = x_values * slope + intercept\n",
    "line_eq = \"y = \" + str(round(slope,2)) + \"x + \" + str(round(intercept,2))\n",
    "plt.scatter(x_values,y_values)\n",
    "plt.plot(x_values,regress_values,\"r-\")\n",
    "plt.annotate(line_eq,(-55,15),fontsize=15,color=\"red\")\n",
    "plt.xlabel('Latitude')\n",
    "plt.ylabel('Humidity')\n",
    "\n",
    "# Save the figure\n",
    "plt.savefig(\"output_data/Fig8.png\")\n",
    "\n",
    "print(f\"The r-value is: {rvalue}\")\n",
    "plt.show()"
   ]
  },
  {
   "cell_type": "markdown",
   "metadata": {},
   "source": [
    "There is a very weak correlation between humidity and latitude for cities located in the southern hemisphere. Given that there is virtually no correlation, we cannot make any inferences about humidity tendencies for these cities."
   ]
  },
  {
   "cell_type": "markdown",
   "metadata": {},
   "source": [
    "####  Northern Hemisphere - Cloudiness (%) vs. Latitude Linear Regression"
   ]
  },
  {
   "cell_type": "code",
   "execution_count": 49,
   "metadata": {},
   "outputs": [
    {
     "name": "stdout",
     "output_type": "stream",
     "text": [
      "The r-value is: 0.3006202294336813\n"
     ]
    },
    {
     "data": {
      "image/png": "[encoded data removed]",
      "text/plain": [
       "<Figure size 432x288 with 1 Axes>"
      ]
     },
     "metadata": {
      "needs_background": "light"
     },
     "output_type": "display_data"
    }
   ],
   "source": [
    "# Create scatter plot and add the linear regression equation and line to plot\n",
    "x_values = northern_cities['Lat']\n",
    "y_values = northern_cities['Cloudiness']\n",
    "(slope, intercept, rvalue, pvalue, stderr) = linregress(x_values, y_values)\n",
    "regress_values = x_values * slope + intercept\n",
    "line_eq = \"y = \" + str(round(slope,2)) + \"x + \" + str(round(intercept,2))\n",
    "plt.scatter(x_values,y_values)\n",
    "plt.plot(x_values,regress_values,\"r-\")\n",
    "plt.annotate(line_eq,(49,30),fontsize=15,color=\"red\")\n",
    "plt.xlabel('Latitude')\n",
    "plt.ylabel('Cloudiness')\n",
    "\n",
    "# Save the figure\n",
    "plt.savefig(\"output_data/Fig9.png\")\n",
    "\n",
    "print(f\"The r-value is: {rvalue}\")\n",
    "plt.show()"
   ]
  },
  {
   "cell_type": "markdown",
   "metadata": {},
   "source": [
    "There is a weak positive correlation between cloudiness and cities located in the northern hemisphere. The regression indicates that cloudiness increases as you move farther away from the equator."
   ]
  },
  {
   "cell_type": "markdown",
   "metadata": {},
   "source": [
    "####  Southern Hemisphere - Cloudiness (%) vs. Latitude Linear Regression"
   ]
  },
  {
   "cell_type": "code",
   "execution_count": 51,
   "metadata": {},
   "outputs": [
    {
     "name": "stdout",
     "output_type": "stream",
     "text": [
      "The r-value is: 0.3002492722283889\n"
     ]
    },
    {
     "data": {
      "image/png": "[encoded data removed]",
      "text/plain": [
       "<Figure size 432x288 with 1 Axes>"
      ]
     },
     "metadata": {
      "needs_background": "light"
     },
     "output_type": "display_data"
    }
   ],
   "source": [
    "# Create scatter plot and add the linear regression equation and line to plot\n",
    "x_values = southern_cities['Lat']\n",
    "y_values = southern_cities['Cloudiness']\n",
    "(slope, intercept, rvalue, pvalue, stderr) = linregress(x_values, y_values)\n",
    "regress_values = x_values * slope + intercept\n",
    "line_eq = \"y = \" + str(round(slope,2)) + \"x + \" + str(round(intercept,2))\n",
    "plt.scatter(x_values,y_values)\n",
    "plt.plot(x_values,regress_values,\"r-\")\n",
    "plt.annotate(line_eq,(-55,13),fontsize=15,color=\"red\")\n",
    "plt.xlabel('Latitude')\n",
    "plt.ylabel('Cloudiness')\n",
    "\n",
    "# Save the figure\n",
    "plt.savefig(\"output_data/Fig10.png\")\n",
    "\n",
    "print(f\"The r-value is: {rvalue}\")\n",
    "plt.show()"
   ]
  },
  {
   "cell_type": "markdown",
   "metadata": {},
   "source": [
    "There is a weak positive correlation between cloudiness and cities location in the southern hemisphere. Unlike the northern hemisphere regression, cloudiness tends to increase as you move closer to the equator for cities located in the southern hemisphere."
   ]
  },
  {
   "cell_type": "markdown",
   "metadata": {},
   "source": [
    "####  Northern Hemisphere - Wind Speed (mph) vs. Latitude Linear Regression"
   ]
  },
  {
   "cell_type": "code",
   "execution_count": 55,
   "metadata": {},
   "outputs": [
    {
     "name": "stdout",
     "output_type": "stream",
     "text": [
      "The r-value is: 0.256305089384976\n"
     ]
    },
    {
     "data": {
      "image/png": "[encoded data removed]",
      "text/plain": [
       "<Figure size 432x288 with 1 Axes>"
      ]
     },
     "metadata": {
      "needs_background": "light"
     },
     "output_type": "display_data"
    }
   ],
   "source": [
    "# Create scatter plot and add the linear regression equation and line to plot\n",
    "x_values = northern_cities['Lat']\n",
    "y_values = northern_cities['Wind Speed']\n",
    "(slope, intercept, rvalue, pvalue, stderr) = linregress(x_values, y_values)\n",
    "regress_values = x_values * slope + intercept\n",
    "line_eq = \"y = \" + str(round(slope,2)) + \"x + \" + str(round(intercept,2))\n",
    "plt.scatter(x_values,y_values)\n",
    "plt.plot(x_values,regress_values,\"r-\")\n",
    "plt.annotate(line_eq,(9,28),fontsize=15,color=\"red\")\n",
    "plt.xlabel('Latitude')\n",
    "plt.ylabel('Wind Speed')\n",
    "\n",
    "# Save the figure\n",
    "plt.savefig(\"output_data/Fig11.png\")\n",
    "\n",
    "print(f\"The r-value is: {rvalue}\")\n",
    "plt.show()"
   ]
  },
  {
   "cell_type": "markdown",
   "metadata": {},
   "source": [
    "There is a very weak correlation between wind speed and latitude for cities in the northern hemisphere. The inference is that wind speeds tend to increase as you move farther away from the equator."
   ]
  },
  {
   "cell_type": "markdown",
   "metadata": {},
   "source": [
    "####  Southern Hemisphere - Wind Speed (mph) vs. Latitude Linear Regression"
   ]
  },
  {
   "cell_type": "code",
   "execution_count": 57,
   "metadata": {},
   "outputs": [
    {
     "name": "stdout",
     "output_type": "stream",
     "text": [
      "The r-value is: -0.26463926408131866\n"
     ]
    },
    {
     "data": {
      "image/png": "[encoded data removed]",
      "text/plain": [
       "<Figure size 432x288 with 1 Axes>"
      ]
     },
     "metadata": {
      "needs_background": "light"
     },
     "output_type": "display_data"
    }
   ],
   "source": [
    "# Create scatter plot and add the linear regression equation and line to plot\n",
    "x_values = southern_cities['Lat']\n",
    "y_values = southern_cities['Wind Speed']\n",
    "(slope, intercept, rvalue, pvalue, stderr) = linregress(x_values, y_values)\n",
    "regress_values = x_values * slope + intercept\n",
    "line_eq = \"y = \" + str(round(slope,2)) + \"x + \" + str(round(intercept,2))\n",
    "plt.scatter(x_values,y_values)\n",
    "plt.plot(x_values,regress_values,\"r-\")\n",
    "plt.annotate(line_eq,(-55,22),fontsize=15,color=\"red\")\n",
    "plt.xlabel('Latitude')\n",
    "plt.ylabel('Wind Speed')\n",
    "\n",
    "# Save the figure\n",
    "plt.savefig(\"output_data/Fig12.png\")\n",
    "\n",
    "print(f\"The r-value is: {rvalue}\")\n",
    "plt.show()"
   ]
  },
  {
   "cell_type": "markdown",
   "metadata": {},
   "source": [
    "There is a very weak correlation between wind speeds and latitude for cities located in the southern hemisphere. In this case, wind speeds tend to drop as you move closer to the equator."
   ]
  }
 ],
 "metadata": {
  "anaconda-cloud": {},
  "kernel_info": {
   "name": "python3"
  },
  "kernelspec": {
   "display_name": "PythonData",
   "language": "python",
   "name": "pythondata"
  },
  "language_info": {
   "codemirror_mode": {
    "name": "ipython",
    "version": 3
   },
   "file_extension": ".py",
   "mimetype": "text/x-python",
   "name": "python",
   "nbconvert_exporter": "python",
   "pygments_lexer": "ipython3",
   "version": "3.7.7"
  },
  "latex_envs": {
   "LaTeX_envs_menu_present": true,
   "autoclose": false,
   "autocomplete": true,
   "bibliofile": "biblio.bib",
   "cite_by": "apalike",
   "current_citInitial": 1,
   "eqLabelWithNumbers": true,
   "eqNumInitial": 1,
   "hotkeys": {
    "equation": "Ctrl-E",
    "itemize": "Ctrl-I"
   },
   "labels_anchors": false,
   "latex_user_defs": false,
   "report_style_numbering": false,
   "user_envs_cfg": false
  },
  "nteract": {
   "version": "0.12.3"
  }
 },
 "nbformat": 4,
 "nbformat_minor": 2
}
